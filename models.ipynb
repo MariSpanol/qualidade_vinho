{
 "cells": [
  {
   "cell_type": "markdown",
   "metadata": {},
   "source": [
    "## 3. Run Models\r\n",
    "\r\n",
    "Os modelos escolhidos para serem testados são:\r\n",
    "1. RandomForest\r\n",
    "2. DecisionTrees\r\n",
    "3. Xgboost\r\n",
    "\r\n",
    "Por ser uma base totalmente desbalanceada (COLOCAR PORCENTAGEM)  irei utilizar a função *SMOTE* é a primeira vez que preciso utilizar esse tipo de função e o objetivo é gerar  casos sintéticos como forma de balancear o dataset.\r\n",
    "O que eu irei fazer então é comparar a acurácia dos modelos com e sem o SMOTE, para ver além da performance dos modelos, se realmente faz sentido utilizar esse tipo de função."
   ]
  },
  {
   "cell_type": "code",
   "execution_count": 59,
   "metadata": {},
   "outputs": [],
   "source": [
    "from collections import Counter\r\n",
    "from sklearn.datasets import make_classification\r\n",
    "from matplotlib import pyplot\r\n",
    "from numpy import where\r\n",
    "import pandas as pd\r\n",
    "from sklearn.ensemble import RandomForestClassifier\r\n",
    "from sklearn.tree import DecisionTreeClassifier\r\n",
    "from sklearn.model_selection import train_test_split,cross_validate\r\n",
    "from sklearn.metrics import accuracy_score,precision_score,recall_score,f1_score\r\n",
    "import numpy as np\r\n",
    "import xgboost as xgb\r\n",
    "import warnings\r\n",
    "warnings.filterwarnings(\"ignore\")\r\n"
   ]
  },
  {
   "cell_type": "code",
   "execution_count": 60,
   "metadata": {},
   "outputs": [
    {
     "data": {
      "text/html": [
       "<div>\n",
       "<style scoped>\n",
       "    .dataframe tbody tr th:only-of-type {\n",
       "        vertical-align: middle;\n",
       "    }\n",
       "\n",
       "    .dataframe tbody tr th {\n",
       "        vertical-align: top;\n",
       "    }\n",
       "\n",
       "    .dataframe thead th {\n",
       "        text-align: right;\n",
       "    }\n",
       "</style>\n",
       "<table border=\"1\" class=\"dataframe\">\n",
       "  <thead>\n",
       "    <tr style=\"text-align: right;\">\n",
       "      <th></th>\n",
       "      <th>fixed acidity</th>\n",
       "      <th>volatile acidity</th>\n",
       "      <th>citric acid</th>\n",
       "      <th>residual sugar</th>\n",
       "      <th>chlorides</th>\n",
       "      <th>free sulfur dioxide</th>\n",
       "      <th>total sulfur dioxide</th>\n",
       "      <th>density</th>\n",
       "      <th>pH</th>\n",
       "      <th>sulphates</th>\n",
       "      <th>alcohol</th>\n",
       "      <th>quality</th>\n",
       "    </tr>\n",
       "  </thead>\n",
       "  <tbody>\n",
       "    <tr>\n",
       "      <th>0</th>\n",
       "      <td>7.0</td>\n",
       "      <td>0.27</td>\n",
       "      <td>0.36</td>\n",
       "      <td>20.7</td>\n",
       "      <td>0.045</td>\n",
       "      <td>45.0</td>\n",
       "      <td>170.0</td>\n",
       "      <td>1.0010</td>\n",
       "      <td>3.00</td>\n",
       "      <td>0.45</td>\n",
       "      <td>8.8</td>\n",
       "      <td>6</td>\n",
       "    </tr>\n",
       "    <tr>\n",
       "      <th>1</th>\n",
       "      <td>6.3</td>\n",
       "      <td>0.30</td>\n",
       "      <td>0.34</td>\n",
       "      <td>1.6</td>\n",
       "      <td>0.049</td>\n",
       "      <td>14.0</td>\n",
       "      <td>132.0</td>\n",
       "      <td>0.9940</td>\n",
       "      <td>3.30</td>\n",
       "      <td>0.49</td>\n",
       "      <td>9.5</td>\n",
       "      <td>6</td>\n",
       "    </tr>\n",
       "    <tr>\n",
       "      <th>2</th>\n",
       "      <td>8.1</td>\n",
       "      <td>0.28</td>\n",
       "      <td>0.40</td>\n",
       "      <td>6.9</td>\n",
       "      <td>0.050</td>\n",
       "      <td>30.0</td>\n",
       "      <td>97.0</td>\n",
       "      <td>0.9951</td>\n",
       "      <td>3.26</td>\n",
       "      <td>0.44</td>\n",
       "      <td>10.1</td>\n",
       "      <td>6</td>\n",
       "    </tr>\n",
       "    <tr>\n",
       "      <th>3</th>\n",
       "      <td>7.2</td>\n",
       "      <td>0.23</td>\n",
       "      <td>0.32</td>\n",
       "      <td>8.5</td>\n",
       "      <td>0.058</td>\n",
       "      <td>47.0</td>\n",
       "      <td>186.0</td>\n",
       "      <td>0.9956</td>\n",
       "      <td>3.19</td>\n",
       "      <td>0.40</td>\n",
       "      <td>9.9</td>\n",
       "      <td>6</td>\n",
       "    </tr>\n",
       "    <tr>\n",
       "      <th>4</th>\n",
       "      <td>7.2</td>\n",
       "      <td>0.23</td>\n",
       "      <td>0.32</td>\n",
       "      <td>8.5</td>\n",
       "      <td>0.058</td>\n",
       "      <td>47.0</td>\n",
       "      <td>186.0</td>\n",
       "      <td>0.9956</td>\n",
       "      <td>3.19</td>\n",
       "      <td>0.40</td>\n",
       "      <td>9.9</td>\n",
       "      <td>6</td>\n",
       "    </tr>\n",
       "  </tbody>\n",
       "</table>\n",
       "</div>"
      ],
      "text/plain": [
       "   fixed acidity  volatile acidity  citric acid  residual sugar  chlorides  \\\n",
       "0            7.0              0.27         0.36            20.7      0.045   \n",
       "1            6.3              0.30         0.34             1.6      0.049   \n",
       "2            8.1              0.28         0.40             6.9      0.050   \n",
       "3            7.2              0.23         0.32             8.5      0.058   \n",
       "4            7.2              0.23         0.32             8.5      0.058   \n",
       "\n",
       "   free sulfur dioxide  total sulfur dioxide  density    pH  sulphates  \\\n",
       "0                 45.0                 170.0   1.0010  3.00       0.45   \n",
       "1                 14.0                 132.0   0.9940  3.30       0.49   \n",
       "2                 30.0                  97.0   0.9951  3.26       0.44   \n",
       "3                 47.0                 186.0   0.9956  3.19       0.40   \n",
       "4                 47.0                 186.0   0.9956  3.19       0.40   \n",
       "\n",
       "   alcohol  quality  \n",
       "0      8.8        6  \n",
       "1      9.5        6  \n",
       "2     10.1        6  \n",
       "3      9.9        6  \n",
       "4      9.9        6  "
      ]
     },
     "execution_count": 60,
     "metadata": {},
     "output_type": "execute_result"
    }
   ],
   "source": [
    "df = pd.read_csv('data_clean.csv')\r\n",
    "df.head()"
   ]
  },
  {
   "cell_type": "code",
   "execution_count": 61,
   "metadata": {},
   "outputs": [],
   "source": [
    "y = df.quality.values\r\n",
    "X = df[['fixed acidity',\r\n",
    " 'volatile acidity',\r\n",
    " 'residual sugar',\r\n",
    " 'chlorides',\r\n",
    " 'free sulfur dioxide',\r\n",
    " 'total sulfur dioxide',\r\n",
    " 'density',\r\n",
    " 'pH',\r\n",
    " 'sulphates',\r\n",
    " 'alcohol']].values"
   ]
  },
  {
   "cell_type": "markdown",
   "metadata": {},
   "source": [
    "### Aplicando a função SMOTE"
   ]
  },
  {
   "cell_type": "code",
   "execution_count": 62,
   "metadata": {},
   "outputs": [],
   "source": [
    "from imblearn.over_sampling import SMOTE\r\n",
    "oversample = SMOTE(k_neighbors=4 )\r\n",
    "X_overed, y_overed = oversample.fit_resample(X, y)"
   ]
  },
  {
   "cell_type": "code",
   "execution_count": 63,
   "metadata": {},
   "outputs": [
    {
     "name": "stdout",
     "output_type": "stream",
     "text": [
      "Counter({6: 2198, 5: 2198, 7: 2198, 8: 2198, 4: 2198, 3: 2198, 9: 2198})\n"
     ]
    }
   ],
   "source": [
    "# summarize the new class distribution\r\n",
    "counter = Counter(y_overed)\r\n",
    "print(counter)"
   ]
  },
  {
   "cell_type": "code",
   "execution_count": 64,
   "metadata": {},
   "outputs": [
    {
     "data": {
      "image/png": "[encoded data removed]",
      "text/plain": [
       "<Figure size 432x288 with 1 Axes>"
      ]
     },
     "metadata": {
      "needs_background": "light"
     },
     "output_type": "display_data"
    }
   ],
   "source": [
    "\r\n",
    "# scatter plot of examples by class label\r\n",
    "for label, _ in counter.items():\r\n",
    "\trow_ix = where(y_overed == label)[0]\r\n",
    "\tpyplot.scatter(X_overed[row_ix, 0], X_overed[row_ix, 1], label=str(label))\r\n",
    "pyplot.legend()\r\n",
    "pyplot.show()"
   ]
  },
  {
   "cell_type": "markdown",
   "metadata": {},
   "source": [
    "É bem nitido o que a função faz, trazendo a uma amostra totalmente desbalanceada, a equidade entre a representatividade das informações que em um caso de previsão é BEM importante."
   ]
  },
  {
   "cell_type": "code",
   "execution_count": 65,
   "metadata": {},
   "outputs": [],
   "source": [
    "#Import Model libraries:\r\n",
    "\r\n",
    "from sklearn.ensemble import RandomForestClassifier\r\n",
    "from sklearn.tree import DecisionTreeClassifier\r\n",
    "from sklearn.model_selection import train_test_split,cross_validate\r\n",
    "from sklearn.metrics import accuracy_score,precision_score,recall_score,f1_score\r\n",
    "import numpy as np"
   ]
  },
  {
   "cell_type": "markdown",
   "metadata": {},
   "source": [
    "### Criando função para gerar meu X e Y\r\n",
    "Esta função irá dividir automaticamente em treino e teste a base e dinamizar o tempo ao rodar cada modelo (até mesmo por que irei testar o dataset com e sem balanceamento sintético)"
   ]
  },
  {
   "cell_type": "code",
   "execution_count": 66,
   "metadata": {},
   "outputs": [],
   "source": [
    "# classify function\r\n",
    "from sklearn.model_selection import cross_val_score, train_test_split\r\n",
    "def classify(model, X, y):\r\n",
    "    x_train, x_test, y_train, y_test = train_test_split(X, y, test_size=0.25, random_state=42)\r\n",
    "    # train the model\r\n",
    "    model.fit(x_train, y_train)\r\n",
    "    print(\"Accuracy:\", model.score(x_test, y_test) * 100)\r\n",
    "    \r\n",
    "    # cross-validation\r\n",
    "    score = cross_val_score(model, X, y, cv=5)\r\n",
    "    print(\"CV Score:\", np.mean(score)*100)"
   ]
  },
  {
   "cell_type": "markdown",
   "metadata": {},
   "source": [
    "### Rodando os modelos"
   ]
  },
  {
   "cell_type": "code",
   "execution_count": 67,
   "metadata": {},
   "outputs": [
    {
     "name": "stdout",
     "output_type": "stream",
     "text": [
      "SEM balenceamento sintético\n",
      "Accuracy: 68.48979591836735\n",
      "CV Score: 50.61249504909215\n",
      "COM balenceamento sintético\n",
      "Accuracy: 88.27657915258644\n",
      "CV Score: 84.62250367067658\n"
     ]
    }
   ],
   "source": [
    "model = RandomForestClassifier()\r\n",
    "print(\"SEM balenceamento sintético\")\r\n",
    "classify(model, X, y)\r\n",
    "print(\"COM balenceamento sintético\")\r\n",
    "classify(model, X_overed, y_overed)"
   ]
  },
  {
   "cell_type": "code",
   "execution_count": 68,
   "metadata": {},
   "outputs": [
    {
     "name": "stdout",
     "output_type": "stream",
     "text": [
      "SEM balenceamento sintético\n",
      "Accuracy: 59.10204081632653\n",
      "CV Score: 38.95513956348628\n",
      "COM balenceamento sintético\n",
      "Accuracy: 80.11437483753573\n",
      "CV Score: 76.3358042429706\n"
     ]
    }
   ],
   "source": [
    "model = DecisionTreeClassifier()\r\n",
    "print(\"SEM balenceamento sintético\")\r\n",
    "classify(model, X, y)\r\n",
    "print(\"COM balenceamento sintético\")\r\n",
    "classify(model, X_overed, y_overed)"
   ]
  },
  {
   "cell_type": "code",
   "execution_count": 69,
   "metadata": {},
   "outputs": [
    {
     "name": "stdout",
     "output_type": "stream",
     "text": [
      "SEM balenceamento sintético\n",
      "Accuracy: 65.38775510204081\n",
      "CV Score: 50.244731191761694\n",
      "COM balenceamento sintético\n",
      "Accuracy: 88.17260202755394\n",
      "CV Score: 83.50479136007306\n"
     ]
    }
   ],
   "source": [
    "xgb.set_config(verbosity=0)\r\n",
    "model = xgb.XGBClassifier(num_class=6,\r\n",
    "                                  feature_fraction=0.7,\r\n",
    "                                  scale_pos_weight=1.5,\r\n",
    "                                  boosting='gbdt',\r\n",
    "                                  eval_metric='mlogloss')\r\n",
    "\r\n",
    "\r\n",
    "print(\"SEM balenceamento sintético\")\r\n",
    "classify(model, X, y)\r\n",
    "print(\"COM balenceamento sintético\")\r\n",
    "classify(model, X_overed, y_overed)"
   ]
  },
  {
   "cell_type": "markdown",
   "metadata": {},
   "source": [
    "## Conclusão\r\n",
    "\r\n",
    "O modelo que apresentou melhor acurácia  e validação cruzada foi RandomForest com 88% de acurácia, o que diz que em 88% dos casos o modelo iria prever a qualidade correta do vinho branco, este algoritmo performou bem até na validação cruzada.\r\n",
    "**Aqui quero chamar atenção para um ponto: a diferença de acurácia no modelo COM e SEM balanceamento, o quanto se mostrou importante utilizar a função SMOTE.**"
   ]
  }
 ],
 "metadata": {
  "interpreter": {
   "hash": "934020936730698c014638e4b75149792c7a6427548645ef43bc066d5a0a6a34"
  },
  "kernelspec": {
   "display_name": "Python 3.8.5 64-bit ('base': conda)",
   "name": "python3"
  },
  "language_info": {
   "codemirror_mode": {
    "name": "ipython",
    "version": 3
   },
   "file_extension": ".py",
   "mimetype": "text/x-python",
   "name": "python",
   "nbconvert_exporter": "python",
   "pygments_lexer": "ipython3",
   "version": "3.8.5"
  },
  "orig_nbformat": 2
 },
 "nbformat": 4,
 "nbformat_minor": 2
}
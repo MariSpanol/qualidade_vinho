{
 "cells": [
  {
   "cell_type": "markdown",
   "metadata": {},
   "source": [
    "## 2. Seleção das variáveis\r\n",
    "\r\n",
    "A seleção de variáveis se dará por meio de testes estatísticos que checam correlação entre duas variáveis em dois processos diferentes. Como estamos lidando com dados numéricos utilizaremos o teste para variáveis contínuas que é chamado de \"teste de ANOVA\" (Analise das variâncias) Este teste evidencia se as variáveis são estatísticamente significativas.\r\n",
    "\r\n",
    "As Hipoteses são:\r\n",
    "\r\n",
    "H0: As colunas NÃO são relacionadas. Não é estatisticamente significativo\r\n",
    "\r\n",
    "H1: As colunas SÃO são relacionadas. É estatisticamente significativo\r\n"
   ]
  },
  {
   "cell_type": "code",
   "execution_count": 6,
   "metadata": {},
   "outputs": [],
   "source": [
    "import pandas as pd\r\n",
    "import warnings\r\n",
    "warnings.filterwarnings(\"ignore\")"
   ]
  },
  {
   "cell_type": "code",
   "execution_count": 7,
   "metadata": {},
   "outputs": [],
   "source": [
    "df = pd.read_csv('data_clean.csv')"
   ]
  },
  {
   "cell_type": "code",
   "execution_count": 8,
   "metadata": {},
   "outputs": [],
   "source": [
    "# Função para gerar o teste de ANOVA\r\n",
    "def anovafunc(dados, target, variaveis_continuas):\r\n",
    "    from scipy.stats import f_oneway\r\n",
    "\r\n",
    "    # criando a lista com as variáveis selecionadas\r\n",
    "    variaveis_selecionadas=[]\r\n",
    "    #loop para aplicar o teste as variáveis\r\n",
    "    for i in variaveis_continuas:\r\n",
    "        continua_group=dados.groupby(target)[i].apply(list)\r\n",
    "        anova_result = f_oneway(*continua_group)\r\n",
    "        # Printar o resultado, se p-valor menor que 0.05 rejeitar H0 e variáveis são correlacionadas\r\n",
    "        if (anova_result[1] < 0.05):\r\n",
    "            print(i, 'tem associação estatisticamente significativa com ', target, '| P-Value:', anova_result[1])\r\n",
    "            variaveis_selecionadas.append(i)\r\n",
    "        else:\r\n",
    "            print(i, ' NÃO tem associação estatisticamente significativa com ', target, '| P-Value:', anova_result[1])\r\n",
    "\r\n",
    "    return(variaveis_selecionadas)"
   ]
  },
  {
   "cell_type": "code",
   "execution_count": 9,
   "metadata": {},
   "outputs": [
    {
     "name": "stdout",
     "output_type": "stream",
     "text": [
      "fixed acidity tem associação estatisticamente significativa com  quality | P-Value: 1.6385499179290163e-14\n",
      "volatile acidity tem associação estatisticamente significativa com  quality | P-Value: 2.6609789450914528e-74\n",
      "citric acid tem associação estatisticamente significativa com  quality | P-Value: 0.003476297718864736\n",
      "residual sugar tem associação estatisticamente significativa com  quality | P-Value: 8.774191501873014e-25\n",
      "chlorides tem associação estatisticamente significativa com  quality | P-Value: 8.504479837410577e-51\n",
      "free sulfur dioxide tem associação estatisticamente significativa com  quality | P-Value: 7.013573248776799e-23\n",
      "total sulfur dioxide tem associação estatisticamente significativa com  quality | P-Value: 4.04401251896838e-54\n",
      "density tem associação estatisticamente significativa com  quality | P-Value: 8.499687144327898e-126\n",
      "pH tem associação estatisticamente significativa com  quality | P-Value: 3.963648462380966e-11\n",
      "sulphates tem associação estatisticamente significativa com  quality | P-Value: 0.0013084373639033289\n",
      "alcohol tem associação estatisticamente significativa com  quality | P-Value: 2.92542743209542e-259\n"
     ]
    },
    {
     "data": {
      "text/plain": [
       "['fixed acidity',\n",
       " 'volatile acidity',\n",
       " 'citric acid',\n",
       " 'residual sugar',\n",
       " 'chlorides',\n",
       " 'free sulfur dioxide',\n",
       " 'total sulfur dioxide',\n",
       " 'density',\n",
       " 'pH',\n",
       " 'sulphates',\n",
       " 'alcohol']"
      ]
     },
     "execution_count": 9,
     "metadata": {},
     "output_type": "execute_result"
    }
   ],
   "source": [
    "# Usando a função \r\n",
    "variaveiscontinuas=['fixed acidity', 'volatile acidity', 'citric acid', 'residual sugar',\r\n",
    "       'chlorides', 'free sulfur dioxide', 'total sulfur dioxide', 'density',\r\n",
    "       'pH', 'sulphates', 'alcohol']\r\n",
    "\r\n",
    "anovafunc(dados=df, target='quality', variaveis_continuas=variaveiscontinuas)"
   ]
  },
  {
   "cell_type": "markdown",
   "metadata": {},
   "source": [
    "Isso significa que as variáveis que contém correlação com a qualidade do vinho e permanecerão na base de dados são: 'fixed acidity', 'volatile acidity', 'residual sugar', 'chlorides', 'free sulfur dioxide', 'total sulfur dioxide', 'density','pH','sulphates','alcohol'\r\n",
    "\r\n",
    "No caso, todas as variáveis estão mantidas."
   ]
  }
 ],
 "metadata": {
  "interpreter": {
   "hash": "c3dc4aeedf5cd300561f0fd5d466f86c282de6261c5284ff8ece43e68c7c23aa"
  },
  "kernelspec": {
   "display_name": "Python 3.8.8 64-bit ('minifloor': conda)",
   "name": "python3"
  },
  "language_info": {
   "name": "python",
   "version": ""
  },
  "orig_nbformat": 2
 },
 "nbformat": 4,
 "nbformat_minor": 2
}